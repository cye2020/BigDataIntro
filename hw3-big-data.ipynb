{
 "cells": [
  {
   "cell_type": "code",
   "execution_count": 1,
   "id": "bfd1daec",
   "metadata": {
    "execution": {
     "iopub.execute_input": "2023-05-17T03:45:22.801940Z",
     "iopub.status.busy": "2023-05-17T03:45:22.801319Z",
     "iopub.status.idle": "2023-05-17T03:45:23.822946Z",
     "shell.execute_reply": "2023-05-17T03:45:23.821896Z"
    },
    "papermill": {
     "duration": 1.032729,
     "end_time": "2023-05-17T03:45:23.825205",
     "exception": false,
     "start_time": "2023-05-17T03:45:22.792476",
     "status": "completed"
    },
    "tags": []
   },
   "outputs": [
    {
     "name": "stdout",
     "output_type": "stream",
     "text": [
      "rm: cannot remove '/kaggle/working/Model': No such file or directory\r\n"
     ]
    }
   ],
   "source": [
    "!rm -r /kaggle/working/Model"
   ]
  },
  {
   "cell_type": "code",
   "execution_count": 2,
   "id": "f8a04b83",
   "metadata": {
    "execution": {
     "iopub.execute_input": "2023-05-17T03:45:23.838793Z",
     "iopub.status.busy": "2023-05-17T03:45:23.837874Z",
     "iopub.status.idle": "2023-05-17T03:45:36.951871Z",
     "shell.execute_reply": "2023-05-17T03:45:36.950646Z"
    },
    "papermill": {
     "duration": 13.124226,
     "end_time": "2023-05-17T03:45:36.955133",
     "exception": false,
     "start_time": "2023-05-17T03:45:23.830907",
     "status": "completed"
    },
    "tags": []
   },
   "outputs": [],
   "source": [
    "!cp -r /kaggle/input/outputmodel/Model /kaggle/working/Model"
   ]
  },
  {
   "cell_type": "code",
   "execution_count": 3,
   "id": "2d91357a",
   "metadata": {
    "_cell_guid": "b1076dfc-b9ad-4769-8c92-a6c4dae69d19",
    "_uuid": "8f2839f25d086af736a60e9eeb907d3b93b6e0e5",
    "execution": {
     "iopub.execute_input": "2023-05-17T03:45:36.968173Z",
     "iopub.status.busy": "2023-05-17T03:45:36.967374Z",
     "iopub.status.idle": "2023-05-17T03:45:51.314720Z",
     "shell.execute_reply": "2023-05-17T03:45:51.313552Z"
    },
    "papermill": {
     "duration": 14.356552,
     "end_time": "2023-05-17T03:45:51.317423",
     "exception": false,
     "start_time": "2023-05-17T03:45:36.960871",
     "status": "completed"
    },
    "tags": []
   },
   "outputs": [
    {
     "name": "stdout",
     "output_type": "stream",
     "text": [
      "Requirement already satisfied: timm in /opt/conda/lib/python3.10/site-packages (0.6.13)\r\n",
      "Requirement already satisfied: huggingface-hub in /opt/conda/lib/python3.10/site-packages (from timm) (0.13.4)\r\n",
      "Requirement already satisfied: torch>=1.7 in /opt/conda/lib/python3.10/site-packages (from timm) (2.0.0)\r\n",
      "Requirement already satisfied: torchvision in /opt/conda/lib/python3.10/site-packages (from timm) (0.15.1)\r\n",
      "Requirement already satisfied: pyyaml in /opt/conda/lib/python3.10/site-packages (from timm) (6.0)\r\n",
      "Requirement already satisfied: filelock in /opt/conda/lib/python3.10/site-packages (from torch>=1.7->timm) (3.11.0)\r\n",
      "Requirement already satisfied: sympy in /opt/conda/lib/python3.10/site-packages (from torch>=1.7->timm) (1.11.1)\r\n",
      "Requirement already satisfied: jinja2 in /opt/conda/lib/python3.10/site-packages (from torch>=1.7->timm) (3.1.2)\r\n",
      "Requirement already satisfied: typing-extensions in /opt/conda/lib/python3.10/site-packages (from torch>=1.7->timm) (4.5.0)\r\n",
      "Requirement already satisfied: networkx in /opt/conda/lib/python3.10/site-packages (from torch>=1.7->timm) (3.1)\r\n",
      "Requirement already satisfied: tqdm>=4.42.1 in /opt/conda/lib/python3.10/site-packages (from huggingface-hub->timm) (4.64.1)\r\n",
      "Requirement already satisfied: requests in /opt/conda/lib/python3.10/site-packages (from huggingface-hub->timm) (2.28.2)\r\n",
      "Requirement already satisfied: packaging>=20.9 in /opt/conda/lib/python3.10/site-packages (from huggingface-hub->timm) (21.3)\r\n",
      "Requirement already satisfied: numpy in /opt/conda/lib/python3.10/site-packages (from torchvision->timm) (1.23.5)\r\n",
      "Requirement already satisfied: pillow!=8.3.*,>=5.3.0 in /opt/conda/lib/python3.10/site-packages (from torchvision->timm) (9.5.0)\r\n",
      "Requirement already satisfied: pyparsing!=3.0.5,>=2.0.2 in /opt/conda/lib/python3.10/site-packages (from packaging>=20.9->huggingface-hub->timm) (3.0.9)\r\n",
      "Requirement already satisfied: MarkupSafe>=2.0 in /opt/conda/lib/python3.10/site-packages (from jinja2->torch>=1.7->timm) (2.1.2)\r\n",
      "Requirement already satisfied: urllib3<1.27,>=1.21.1 in /opt/conda/lib/python3.10/site-packages (from requests->huggingface-hub->timm) (1.26.15)\r\n",
      "Requirement already satisfied: certifi>=2017.4.17 in /opt/conda/lib/python3.10/site-packages (from requests->huggingface-hub->timm) (2022.12.7)\r\n",
      "Requirement already satisfied: charset-normalizer<4,>=2 in /opt/conda/lib/python3.10/site-packages (from requests->huggingface-hub->timm) (2.1.1)\r\n",
      "Requirement already satisfied: idna<4,>=2.5 in /opt/conda/lib/python3.10/site-packages (from requests->huggingface-hub->timm) (3.4)\r\n",
      "Requirement already satisfied: mpmath>=0.19 in /opt/conda/lib/python3.10/site-packages (from sympy->torch>=1.7->timm) (1.3.0)\r\n",
      "\u001b[33mWARNING: Running pip as the 'root' user can result in broken permissions and conflicting behaviour with the system package manager. It is recommended to use a virtual environment instead: https://pip.pypa.io/warnings/venv\u001b[0m\u001b[33m\r\n",
      "\u001b[0m"
     ]
    }
   ],
   "source": [
    "!pip install timm"
   ]
  },
  {
   "cell_type": "code",
   "execution_count": 4,
   "id": "86812261",
   "metadata": {
    "execution": {
     "iopub.execute_input": "2023-05-17T03:45:51.334110Z",
     "iopub.status.busy": "2023-05-17T03:45:51.333760Z",
     "iopub.status.idle": "2023-05-17T03:46:21.338139Z",
     "shell.execute_reply": "2023-05-17T03:46:21.337248Z"
    },
    "papermill": {
     "duration": 30.021104,
     "end_time": "2023-05-17T03:46:21.346219",
     "exception": false,
     "start_time": "2023-05-17T03:45:51.325115",
     "status": "completed"
    },
    "tags": []
   },
   "outputs": [
    {
     "name": "stderr",
     "output_type": "stream",
     "text": [
      "Downloading: \"https://github.com/rwightman/pytorch-image-models/releases/download/v0.1-weights/efficientnet_b0_ra-3dd342df.pth\" to /root/.cache/torch/hub/checkpoints/efficientnet_b0_ra-3dd342df.pth\n",
      "Downloading: \"https://github.com/rwightman/pytorch-image-models/releases/download/v0.1-cadene/xception-43020ad28.pth\" to /root/.cache/torch/hub/checkpoints/xception-43020ad28.pth\n",
      "Downloading: \"https://download.pytorch.org/models/vgg16-397923af.pth\" to /root/.cache/torch/hub/checkpoints/vgg16-397923af.pth\n"
     ]
    },
    {
     "data": {
      "text/plain": [
       "torch.Size([32, 2])"
      ]
     },
     "execution_count": 4,
     "metadata": {},
     "output_type": "execute_result"
    }
   ],
   "source": [
    "import torch\n",
    "import torch.nn as nn\n",
    "import torch.optim as optim\n",
    "import timm\n",
    "\n",
    "device = 'cuda:0'\n",
    "\n",
    "model1 = timm.create_model('efficientnet_b0',num_classes=2, pretrained=True).to(device)\n",
    "model2 = timm.create_model('xception',num_classes=2, pretrained=True).to(device)\n",
    "model3 = timm.create_model('vgg16', num_classes=2, pretrained=True).to(device)\n",
    "x     = torch.randn(32, 3, 224, 224).to(device)\n",
    "model1(x).shape"
   ]
  },
  {
   "cell_type": "code",
   "execution_count": 5,
   "id": "46b851d6",
   "metadata": {
    "execution": {
     "iopub.execute_input": "2023-05-17T03:46:21.360894Z",
     "iopub.status.busy": "2023-05-17T03:46:21.360086Z",
     "iopub.status.idle": "2023-05-17T03:46:21.368274Z",
     "shell.execute_reply": "2023-05-17T03:46:21.367272Z"
    },
    "papermill": {
     "duration": 0.01804,
     "end_time": "2023-05-17T03:46:21.370511",
     "exception": false,
     "start_time": "2023-05-17T03:46:21.352471",
     "status": "completed"
    },
    "tags": []
   },
   "outputs": [],
   "source": [
    "# Define Loss Function and Optimizer\n",
    "criterion = nn.CrossEntropyLoss()\n",
    "optimizer1 = optim.Adam(model1.parameters(), lr=0.001)\n",
    "optimizer2 = optim.Adam(model2.parameters(), lr=0.001)\n",
    "optimizer3 = optim.Adam(model3.parameters(), lr=0.001)"
   ]
  },
  {
   "cell_type": "markdown",
   "id": "785b5bca",
   "metadata": {
    "papermill": {
     "duration": 0.006859,
     "end_time": "2023-05-17T03:46:21.383686",
     "exception": false,
     "start_time": "2023-05-17T03:46:21.376827",
     "status": "completed"
    },
    "tags": []
   },
   "source": [
    "## Create DataLoader"
   ]
  },
  {
   "cell_type": "code",
   "execution_count": 6,
   "id": "e882a36f",
   "metadata": {
    "execution": {
     "iopub.execute_input": "2023-05-17T03:46:21.397216Z",
     "iopub.status.busy": "2023-05-17T03:46:21.396940Z",
     "iopub.status.idle": "2023-05-17T03:46:21.401595Z",
     "shell.execute_reply": "2023-05-17T03:46:21.400619Z"
    },
    "papermill": {
     "duration": 0.013724,
     "end_time": "2023-05-17T03:46:21.403552",
     "exception": false,
     "start_time": "2023-05-17T03:46:21.389828",
     "status": "completed"
    },
    "tags": []
   },
   "outputs": [],
   "source": [
    "import os\n",
    "from PIL import Image\n",
    "import torchvision.transforms as tf\n",
    "from torch.utils.data import Dataset, DataLoader\n",
    "from typing import Tuple\n",
    "from tqdm.autonotebook import tqdm"
   ]
  },
  {
   "cell_type": "code",
   "execution_count": 7,
   "id": "b0d188bb",
   "metadata": {
    "execution": {
     "iopub.execute_input": "2023-05-17T03:46:21.417130Z",
     "iopub.status.busy": "2023-05-17T03:46:21.416508Z",
     "iopub.status.idle": "2023-05-17T03:46:21.420954Z",
     "shell.execute_reply": "2023-05-17T03:46:21.419934Z"
    },
    "papermill": {
     "duration": 0.013888,
     "end_time": "2023-05-17T03:46:21.423549",
     "exception": false,
     "start_time": "2023-05-17T03:46:21.409661",
     "status": "completed"
    },
    "tags": []
   },
   "outputs": [],
   "source": [
    "LABEL = {0: 'fake', 1: 'real'}"
   ]
  },
  {
   "cell_type": "code",
   "execution_count": 8,
   "id": "a30b9e58",
   "metadata": {
    "execution": {
     "iopub.execute_input": "2023-05-17T03:46:21.438225Z",
     "iopub.status.busy": "2023-05-17T03:46:21.437956Z",
     "iopub.status.idle": "2023-05-17T03:46:21.445961Z",
     "shell.execute_reply": "2023-05-17T03:46:21.444981Z"
    },
    "papermill": {
     "duration": 0.01793,
     "end_time": "2023-05-17T03:46:21.448141",
     "exception": false,
     "start_time": "2023-05-17T03:46:21.430211",
     "status": "completed"
    },
    "tags": []
   },
   "outputs": [],
   "source": [
    "class ImageDataset(Dataset):\n",
    "    def __init__(self, root: str, transform=None):\n",
    "        self.root = root\n",
    "        self.transform = transform\n",
    "        self.files = self.load()\n",
    "\n",
    "    def load(self):\n",
    "        files = list()\n",
    "        for file in os.listdir(self.root):\n",
    "            if file.startswith('fake_'):\n",
    "                label = 0\n",
    "            elif file.startswith('real_'):\n",
    "                label = 1\n",
    "            else:\n",
    "                continue\n",
    "            files.append((os.path.join(self.root, file), label))\n",
    "        return files\n",
    "\n",
    "    def __len__(self):\n",
    "        return len(self.files)\n",
    "\n",
    "    def __getitem__(self, idx):\n",
    "        file, label = self.files[idx]\n",
    "        image = Image.open(file).convert('RGB')\n",
    "        if self.transform:\n",
    "           image = self.transform(image)\n",
    "        return image, label"
   ]
  },
  {
   "cell_type": "code",
   "execution_count": 9,
   "id": "ad13da89",
   "metadata": {
    "execution": {
     "iopub.execute_input": "2023-05-17T03:46:21.462175Z",
     "iopub.status.busy": "2023-05-17T03:46:21.461381Z",
     "iopub.status.idle": "2023-05-17T03:46:21.469487Z",
     "shell.execute_reply": "2023-05-17T03:46:21.468711Z"
    },
    "papermill": {
     "duration": 0.017208,
     "end_time": "2023-05-17T03:46:21.471438",
     "exception": false,
     "start_time": "2023-05-17T03:46:21.454230",
     "status": "completed"
    },
    "tags": []
   },
   "outputs": [],
   "source": [
    "def CreateDataLoader(root: str) -> Tuple[DataLoader, DataLoader, DataLoader]:\n",
    "    # Path of Image Data\n",
    "    train = os.path.join(root, 'train')\n",
    "    valid = os.path.join(root, 'val')\n",
    "    test = os.path.join(root, 'test')\n",
    "\n",
    "    # Transform Image Data\n",
    "    transform = tf.Compose([\n",
    "        tf.Resize((224, 224)),\n",
    "        tf.ToTensor(),\n",
    "        tf.Normalize(mean=[0.485, 0.456, 0.406], std=[0.229, 0.224, 0.225])\n",
    "    ])\n",
    "\n",
    "    # Create ImageFolder Dataset\n",
    "    train_ds = ImageDataset(root=train, transform=transform)\n",
    "    valid_ds = ImageDataset(root=valid, transform=transform)\n",
    "    test_ds = ImageDataset(root=test, transform=transform)\n",
    "\n",
    "    # Create DataLoader\n",
    "    batch_size = 32  # Min-batches\n",
    "    train_dl = DataLoader(train_ds, batch_size=batch_size, shuffle=True)\n",
    "    valid_dl = DataLoader(valid_ds, batch_size=batch_size, shuffle=True)\n",
    "    test_dl = DataLoader(test_ds, batch_size=batch_size, shuffle=True)\n",
    "\n",
    "    return train_dl, valid_dl, test_dl"
   ]
  },
  {
   "cell_type": "code",
   "execution_count": 10,
   "id": "ddbaa286",
   "metadata": {
    "execution": {
     "iopub.execute_input": "2023-05-17T03:46:21.484954Z",
     "iopub.status.busy": "2023-05-17T03:46:21.484136Z",
     "iopub.status.idle": "2023-05-17T03:46:23.585970Z",
     "shell.execute_reply": "2023-05-17T03:46:23.585022Z"
    },
    "papermill": {
     "duration": 2.110905,
     "end_time": "2023-05-17T03:46:23.588305",
     "exception": false,
     "start_time": "2023-05-17T03:46:21.477400",
     "status": "completed"
    },
    "tags": []
   },
   "outputs": [],
   "source": [
    "# Directories\n",
    "highf2f_dir = '/kaggle/input/deepfake/High Quality-20230515T182106Z-001/High Quality/f2f_data'\n",
    "highnt_dir = '/kaggle/input/deepfake/High Quality-20230515T182106Z-001/High Quality/nt_data'\n",
    "lowf2f_dir = '/kaggle/input/deepfake/Low Quality-20230515T182346Z-001/Low Quality/f2f_data'\n",
    "lownt_dir = '/kaggle/input/deepfake/Low Quality-20230515T182346Z-001/Low Quality/nt_data'\n",
    "\n",
    "highf2f_dl = list(CreateDataLoader(highf2f_dir))\n",
    "highnt_dl = list(CreateDataLoader(highnt_dir))\n",
    "lowf2f_dl = list(CreateDataLoader(lowf2f_dir))\n",
    "lownt_dl = list(CreateDataLoader(lownt_dir))"
   ]
  },
  {
   "cell_type": "markdown",
   "id": "c76abe2a",
   "metadata": {
    "papermill": {
     "duration": 0.005911,
     "end_time": "2023-05-17T03:46:23.600582",
     "exception": false,
     "start_time": "2023-05-17T03:46:23.594671",
     "status": "completed"
    },
    "tags": []
   },
   "source": [
    "## Train Model"
   ]
  },
  {
   "cell_type": "code",
   "execution_count": 11,
   "id": "8908ef24",
   "metadata": {
    "execution": {
     "iopub.execute_input": "2023-05-17T03:46:23.614190Z",
     "iopub.status.busy": "2023-05-17T03:46:23.613871Z",
     "iopub.status.idle": "2023-05-17T03:46:23.626478Z",
     "shell.execute_reply": "2023-05-17T03:46:23.625563Z"
    },
    "papermill": {
     "duration": 0.021805,
     "end_time": "2023-05-17T03:46:23.628447",
     "exception": false,
     "start_time": "2023-05-17T03:46:23.606642",
     "status": "completed"
    },
    "tags": []
   },
   "outputs": [],
   "source": [
    "def train(train_dl, valid_dl, model, optimizer, num_epochs=100, save=False, save_path=None):\n",
    "    train_losses = []\n",
    "    train_accs = []\n",
    "    valid_losses = []\n",
    "    valid_accs = []\n",
    "\n",
    "    for epoch in range(num_epochs):\n",
    "        total_loss = 0.0\n",
    "        correct = 0\n",
    "        total = 0\n",
    "\n",
    "        model.train()\n",
    "        for images, labels in train_dl:\n",
    "            images = images.to(device)\n",
    "            labels = labels.to(device)\n",
    "\n",
    "            optimizer.zero_grad()\n",
    "\n",
    "            # Forward pass and loss calculation\n",
    "            outputs = model(images)\n",
    "            loss = criterion(outputs, labels)\n",
    "\n",
    "            # Backward pass and weight update\n",
    "            loss.backward()\n",
    "            optimizer.step()\n",
    "\n",
    "            total_loss += loss.item()\n",
    "            _, predicted = outputs.max(1)\n",
    "            total += labels.size(0)\n",
    "            correct += predicted.eq(labels).sum().item()\n",
    "\n",
    "        # Record training loss and accuracy for each epoch\n",
    "        train_loss = total_loss / len(train_dl)\n",
    "        train_acc = 100.0 * correct / total\n",
    "        train_losses.append(train_loss)\n",
    "        train_accs.append(train_acc)\n",
    "\n",
    "        # Validation\n",
    "        model.eval()\n",
    "        total_loss = 0.0\n",
    "        correct = 0\n",
    "        total = 0\n",
    "\n",
    "        with torch.no_grad():\n",
    "            for images, labels in valid_dl:\n",
    "                images = images.to(device)\n",
    "                labels = labels.to(device)\n",
    "\n",
    "                outputs = model(images)\n",
    "                loss = criterion(outputs, labels)\n",
    "\n",
    "                total_loss += loss.item()\n",
    "                _, predicted = outputs.max(1)\n",
    "                total += labels.size(0)\n",
    "                correct += predicted.eq(labels).sum().item()\n",
    "\n",
    "        # Record training loss and accuracy for each epoch\n",
    "        valid_loss = total_loss / len(valid_dl)\n",
    "        valid_acc = 100.0 * correct / total\n",
    "        valid_losses.append(valid_loss)\n",
    "        valid_accs.append(valid_acc)\n",
    "\n",
    "        # Print Result for each epoch\n",
    "        print(f'Epoch [{epoch+1}/{num_epochs}], '\n",
    "              f'Train Loss: {train_loss:.4f}, Train Acc: {train_acc:.2f}%, '\n",
    "              f'Val Loss: {valid_loss:.4f}, Val Acc: {valid_acc:.2f}%')\n",
    "    if save:\n",
    "        checkpoint = {\n",
    "            'model_state_dict': model.state_dict(),\n",
    "            'metrics': {\n",
    "                'train_loss': train_losses,\n",
    "                'train_acc': train_accs,\n",
    "                'valid_loss': valid_losses,\n",
    "                'valid_acc': valid_accs\n",
    "            }\n",
    "        }\n",
    "        torch.save(checkpoint, save_path)\n",
    "    return train_losses, train_accs, valid_losses, valid_accs"
   ]
  },
  {
   "cell_type": "code",
   "execution_count": 12,
   "id": "52ee5f8d",
   "metadata": {
    "execution": {
     "iopub.execute_input": "2023-05-17T03:46:23.642084Z",
     "iopub.status.busy": "2023-05-17T03:46:23.641368Z",
     "iopub.status.idle": "2023-05-17T03:46:23.647103Z",
     "shell.execute_reply": "2023-05-17T03:46:23.645778Z"
    },
    "papermill": {
     "duration": 0.014629,
     "end_time": "2023-05-17T03:46:23.649060",
     "exception": false,
     "start_time": "2023-05-17T03:46:23.634431",
     "status": "completed"
    },
    "tags": []
   },
   "outputs": [],
   "source": [
    "def loadTrainedModel(model):\n",
    "    metrics = model['metrics']\n",
    "    train_losses = metrics['train_loss']\n",
    "    train_accs = metrics['train_acc']\n",
    "    valid_losses = metrics['valid_loss']\n",
    "    valid_accs = metrics['valid_acc']\n",
    "    return train_losses, train_accs, valid_losses, valid_accs"
   ]
  },
  {
   "cell_type": "code",
   "execution_count": 13,
   "id": "89b72c51",
   "metadata": {
    "execution": {
     "iopub.execute_input": "2023-05-17T03:46:23.662928Z",
     "iopub.status.busy": "2023-05-17T03:46:23.662229Z",
     "iopub.status.idle": "2023-05-17T03:46:23.669504Z",
     "shell.execute_reply": "2023-05-17T03:46:23.668695Z"
    },
    "papermill": {
     "duration": 0.015912,
     "end_time": "2023-05-17T03:46:23.671389",
     "exception": false,
     "start_time": "2023-05-17T03:46:23.655477",
     "status": "completed"
    },
    "tags": []
   },
   "outputs": [],
   "source": [
    "import matplotlib.pyplot as plt\n",
    "\n",
    "def plot(train_losses, train_accs, valid_losses, valid_accs, model_name, dataloader_category):\n",
    "    plt.figure(figsize=(12, 4))\n",
    "    plt.subplot(1, 2, 1)\n",
    "    plt.plot(train_losses, label='Train')\n",
    "    plt.plot(valid_losses, label='Validation')\n",
    "    plt.xlabel('Epoch')\n",
    "    plt.ylabel('Loss')\n",
    "    plt.title(f'{model_name}: {dataloader_category} Training and Validation Loss')\n",
    "    plt.legend()\n",
    "\n",
    "    plt.subplot(1, 2, 2)\n",
    "    plt.plot(train_accs, label='Train')\n",
    "    plt.plot(valid_accs, label='Validation')\n",
    "    plt.xlabel('Epoch')\n",
    "    plt.ylabel('Accuracy (%)')\n",
    "    plt.title(f'{model_name}: {dataloader_category} Training and Validation Accuracy')\n",
    "    plt.legend()\n",
    "\n",
    "    plt.tight_layout()\n",
    "    plt.show()"
   ]
  },
  {
   "cell_type": "code",
   "execution_count": 14,
   "id": "88226e90",
   "metadata": {
    "execution": {
     "iopub.execute_input": "2023-05-17T03:46:23.684647Z",
     "iopub.status.busy": "2023-05-17T03:46:23.683919Z",
     "iopub.status.idle": "2023-05-17T03:46:23.688634Z",
     "shell.execute_reply": "2023-05-17T03:46:23.687750Z"
    },
    "papermill": {
     "duration": 0.013322,
     "end_time": "2023-05-17T03:46:23.690566",
     "exception": false,
     "start_time": "2023-05-17T03:46:23.677244",
     "status": "completed"
    },
    "tags": []
   },
   "outputs": [],
   "source": [
    "model_optimizers = {\n",
    "    'Efficient_b0': [model1, optimizer1],\n",
    "    'Xception': [model2, optimizer2],\n",
    "    'VGG16': [model3, optimizer3],\n",
    "}\n",
    "\n",
    "dataloaders = {\n",
    "    'HighF2F': highf2f_dl,\n",
    "    'HighNT': highnt_dl,\n",
    "    'LowF2F': lowf2f_dl,\n",
    "    'LowNT': lownt_dl,\n",
    "}"
   ]
  },
  {
   "cell_type": "code",
   "execution_count": 15,
   "id": "8114375c",
   "metadata": {
    "execution": {
     "iopub.execute_input": "2023-05-17T03:46:23.703547Z",
     "iopub.status.busy": "2023-05-17T03:46:23.703039Z",
     "iopub.status.idle": "2023-05-17T03:46:24.701524Z",
     "shell.execute_reply": "2023-05-17T03:46:24.700462Z"
    },
    "papermill": {
     "duration": 1.007365,
     "end_time": "2023-05-17T03:46:24.703801",
     "exception": false,
     "start_time": "2023-05-17T03:46:23.696436",
     "status": "completed"
    },
    "tags": []
   },
   "outputs": [
    {
     "name": "stdout",
     "output_type": "stream",
     "text": [
      "mkdir: cannot create directory ‘/kaggle/working/Model’: File exists\r\n"
     ]
    }
   ],
   "source": [
    "!mkdir '/kaggle/working/Model'"
   ]
  },
  {
   "cell_type": "code",
   "execution_count": 16,
   "id": "e6ff7401",
   "metadata": {
    "execution": {
     "iopub.execute_input": "2023-05-17T03:46:24.718510Z",
     "iopub.status.busy": "2023-05-17T03:46:24.717672Z",
     "iopub.status.idle": "2023-05-17T09:22:45.579578Z",
     "shell.execute_reply": "2023-05-17T09:22:45.578493Z"
    },
    "papermill": {
     "duration": 20180.871449,
     "end_time": "2023-05-17T09:22:45.581825",
     "exception": false,
     "start_time": "2023-05-17T03:46:24.710376",
     "status": "completed"
    },
    "tags": []
   },
   "outputs": [
    {
     "name": "stdout",
     "output_type": "stream",
     "text": [
      "-----Already Trained Efficient_b0 model for HighF2F Dataset-----\n",
      "-----Already Trained Efficient_b0 model for HighNT Dataset-----\n",
      "-----Already Trained Efficient_b0 model for LowF2F Dataset-----\n",
      "-----Already Trained Efficient_b0 model for LowNT Dataset-----\n",
      "-----Already Trained Xception model for HighF2F Dataset-----\n",
      "-----Already Trained Xception model for HighNT Dataset-----\n",
      "-----Already Trained Xception model for LowF2F Dataset-----\n",
      "-----Already Trained Xception model for LowNT Dataset-----\n",
      "-----Already Trained VGG16 model for HighF2F Dataset-----\n",
      "-----Already Trained VGG16 model for HighNT Dataset-----\n",
      "\n",
      "-----Train VGG16 model for LowF2F Dataset-----\n",
      "Epoch [1/100], Train Loss: 2.6189, Train Acc: 51.75%, Val Loss: 0.7623, Val Acc: 50.00%\n",
      "Epoch [2/100], Train Loss: 0.7044, Train Acc: 49.08%, Val Loss: 0.6935, Val Acc: 50.00%\n",
      "Epoch [3/100], Train Loss: 0.6954, Train Acc: 49.08%, Val Loss: 0.6953, Val Acc: 50.00%\n",
      "Epoch [4/100], Train Loss: 0.6945, Train Acc: 53.58%, Val Loss: 0.6942, Val Acc: 49.75%\n",
      "Epoch [5/100], Train Loss: 0.6999, Train Acc: 53.33%, Val Loss: 0.6931, Val Acc: 50.00%\n",
      "Epoch [6/100], Train Loss: 0.7092, Train Acc: 49.50%, Val Loss: 0.6930, Val Acc: 50.00%\n",
      "Epoch [7/100], Train Loss: 0.6968, Train Acc: 48.25%, Val Loss: 0.6932, Val Acc: 50.00%\n",
      "Epoch [8/100], Train Loss: 0.6934, Train Acc: 48.75%, Val Loss: 0.6931, Val Acc: 50.00%\n",
      "Epoch [9/100], Train Loss: 0.7242, Train Acc: 50.25%, Val Loss: 0.6957, Val Acc: 50.00%\n",
      "Epoch [10/100], Train Loss: 0.6941, Train Acc: 51.00%, Val Loss: 0.6929, Val Acc: 50.00%\n",
      "Epoch [11/100], Train Loss: 0.6922, Train Acc: 53.08%, Val Loss: 0.6626, Val Acc: 58.96%\n",
      "Epoch [12/100], Train Loss: 0.7046, Train Acc: 57.42%, Val Loss: 0.6936, Val Acc: 50.00%\n",
      "Epoch [13/100], Train Loss: 0.6951, Train Acc: 51.67%, Val Loss: 0.6931, Val Acc: 50.00%\n",
      "Epoch [14/100], Train Loss: 0.6917, Train Acc: 52.25%, Val Loss: 0.6694, Val Acc: 60.45%\n",
      "Epoch [15/100], Train Loss: 0.7069, Train Acc: 52.25%, Val Loss: 0.6932, Val Acc: 50.00%\n",
      "Epoch [16/100], Train Loss: 0.6941, Train Acc: 48.08%, Val Loss: 0.6933, Val Acc: 47.51%\n",
      "Epoch [17/100], Train Loss: 0.6948, Train Acc: 47.92%, Val Loss: 0.6930, Val Acc: 50.00%\n",
      "Epoch [18/100], Train Loss: 0.6933, Train Acc: 50.00%, Val Loss: 0.6931, Val Acc: 50.00%\n",
      "Epoch [19/100], Train Loss: 0.6934, Train Acc: 50.00%, Val Loss: 0.6931, Val Acc: 50.00%\n",
      "Epoch [20/100], Train Loss: 0.6932, Train Acc: 50.00%, Val Loss: 0.6932, Val Acc: 50.00%\n",
      "Epoch [21/100], Train Loss: 0.6932, Train Acc: 49.00%, Val Loss: 0.6931, Val Acc: 50.00%\n",
      "Epoch [22/100], Train Loss: 0.6933, Train Acc: 50.00%, Val Loss: 0.6932, Val Acc: 50.00%\n",
      "Epoch [23/100], Train Loss: 0.6933, Train Acc: 48.17%, Val Loss: 0.6931, Val Acc: 50.00%\n",
      "Epoch [24/100], Train Loss: 0.6936, Train Acc: 50.00%, Val Loss: 0.6933, Val Acc: 50.00%\n",
      "Epoch [25/100], Train Loss: 0.6933, Train Acc: 48.67%, Val Loss: 0.6932, Val Acc: 50.00%\n",
      "Epoch [26/100], Train Loss: 0.6932, Train Acc: 48.17%, Val Loss: 0.6931, Val Acc: 50.00%\n",
      "Epoch [27/100], Train Loss: 0.6932, Train Acc: 50.00%, Val Loss: 0.6932, Val Acc: 50.00%\n",
      "Epoch [28/100], Train Loss: 0.6933, Train Acc: 50.00%, Val Loss: 0.6931, Val Acc: 50.00%\n",
      "Epoch [29/100], Train Loss: 0.6932, Train Acc: 48.67%, Val Loss: 0.6931, Val Acc: 50.00%\n",
      "Epoch [30/100], Train Loss: 0.6932, Train Acc: 50.00%, Val Loss: 0.6932, Val Acc: 50.00%\n",
      "Epoch [31/100], Train Loss: 0.6934, Train Acc: 50.00%, Val Loss: 0.6932, Val Acc: 50.00%\n",
      "Epoch [32/100], Train Loss: 0.6934, Train Acc: 48.33%, Val Loss: 0.6931, Val Acc: 50.00%\n",
      "Epoch [33/100], Train Loss: 0.6935, Train Acc: 50.00%, Val Loss: 0.6931, Val Acc: 50.00%\n",
      "Epoch [34/100], Train Loss: 0.6933, Train Acc: 50.00%, Val Loss: 0.6931, Val Acc: 50.00%\n",
      "Epoch [35/100], Train Loss: 0.6935, Train Acc: 47.83%, Val Loss: 0.6932, Val Acc: 50.00%\n",
      "Epoch [36/100], Train Loss: 0.6933, Train Acc: 48.83%, Val Loss: 0.6931, Val Acc: 50.00%\n",
      "Epoch [37/100], Train Loss: 0.6934, Train Acc: 48.17%, Val Loss: 0.6931, Val Acc: 50.00%\n",
      "Epoch [38/100], Train Loss: 0.6932, Train Acc: 47.83%, Val Loss: 0.6931, Val Acc: 50.00%\n",
      "Epoch [39/100], Train Loss: 0.6933, Train Acc: 50.00%, Val Loss: 0.6932, Val Acc: 50.00%\n",
      "Epoch [40/100], Train Loss: 0.6932, Train Acc: 50.00%, Val Loss: 0.6932, Val Acc: 50.00%\n",
      "Epoch [41/100], Train Loss: 0.6932, Train Acc: 48.67%, Val Loss: 0.6932, Val Acc: 50.00%\n",
      "Epoch [42/100], Train Loss: 0.6933, Train Acc: 46.00%, Val Loss: 0.6932, Val Acc: 50.00%\n",
      "Epoch [43/100], Train Loss: 0.6933, Train Acc: 50.00%, Val Loss: 0.6932, Val Acc: 50.00%\n",
      "Epoch [44/100], Train Loss: 0.6932, Train Acc: 49.17%, Val Loss: 0.6932, Val Acc: 50.00%\n",
      "Epoch [45/100], Train Loss: 0.6932, Train Acc: 50.00%, Val Loss: 0.6931, Val Acc: 50.00%\n",
      "Epoch [46/100], Train Loss: 0.6932, Train Acc: 47.83%, Val Loss: 0.6931, Val Acc: 50.00%\n",
      "Epoch [47/100], Train Loss: 0.6932, Train Acc: 50.00%, Val Loss: 0.6932, Val Acc: 50.00%\n",
      "Epoch [48/100], Train Loss: 0.6933, Train Acc: 49.17%, Val Loss: 0.6931, Val Acc: 50.00%\n",
      "Epoch [49/100], Train Loss: 0.6932, Train Acc: 47.83%, Val Loss: 0.6932, Val Acc: 50.00%\n",
      "Epoch [50/100], Train Loss: 0.6932, Train Acc: 48.67%, Val Loss: 0.6932, Val Acc: 50.00%\n",
      "Epoch [51/100], Train Loss: 0.6933, Train Acc: 48.67%, Val Loss: 0.6931, Val Acc: 50.00%\n",
      "Epoch [52/100], Train Loss: 0.6932, Train Acc: 48.83%, Val Loss: 0.6931, Val Acc: 50.00%\n",
      "Epoch [53/100], Train Loss: 0.6932, Train Acc: 45.17%, Val Loss: 0.6931, Val Acc: 50.00%\n",
      "Epoch [54/100], Train Loss: 0.6932, Train Acc: 50.00%, Val Loss: 0.6931, Val Acc: 50.00%\n",
      "Epoch [55/100], Train Loss: 0.6933, Train Acc: 45.67%, Val Loss: 0.6932, Val Acc: 50.00%\n",
      "Epoch [56/100], Train Loss: 0.6933, Train Acc: 49.67%, Val Loss: 0.6932, Val Acc: 50.00%\n",
      "Epoch [57/100], Train Loss: 0.6934, Train Acc: 50.00%, Val Loss: 0.6932, Val Acc: 50.00%\n",
      "Epoch [58/100], Train Loss: 0.6933, Train Acc: 49.33%, Val Loss: 0.6931, Val Acc: 50.00%\n",
      "Epoch [59/100], Train Loss: 0.6934, Train Acc: 49.50%, Val Loss: 0.6932, Val Acc: 50.00%\n",
      "Epoch [60/100], Train Loss: 0.6933, Train Acc: 49.50%, Val Loss: 0.6932, Val Acc: 50.00%\n",
      "Epoch [61/100], Train Loss: 0.6933, Train Acc: 47.33%, Val Loss: 0.6932, Val Acc: 50.00%\n",
      "Epoch [62/100], Train Loss: 0.6935, Train Acc: 47.67%, Val Loss: 0.6931, Val Acc: 50.00%\n",
      "Epoch [63/100], Train Loss: 0.6932, Train Acc: 50.00%, Val Loss: 0.6931, Val Acc: 50.00%\n",
      "Epoch [64/100], Train Loss: 0.6932, Train Acc: 49.33%, Val Loss: 0.6931, Val Acc: 50.00%\n",
      "Epoch [65/100], Train Loss: 0.6932, Train Acc: 50.17%, Val Loss: 0.6931, Val Acc: 50.00%\n",
      "Epoch [66/100], Train Loss: 0.6933, Train Acc: 48.00%, Val Loss: 0.6932, Val Acc: 50.00%\n",
      "Epoch [67/100], Train Loss: 0.6950, Train Acc: 49.67%, Val Loss: 0.6945, Val Acc: 50.00%\n",
      "Epoch [68/100], Train Loss: 0.6963, Train Acc: 50.33%, Val Loss: 0.6939, Val Acc: 50.00%\n",
      "Epoch [69/100], Train Loss: 0.6937, Train Acc: 50.17%, Val Loss: 0.6931, Val Acc: 50.00%\n",
      "Epoch [70/100], Train Loss: 0.6934, Train Acc: 48.17%, Val Loss: 0.6932, Val Acc: 50.00%\n",
      "Epoch [71/100], Train Loss: 0.6932, Train Acc: 48.83%, Val Loss: 0.6931, Val Acc: 50.00%\n",
      "Epoch [72/100], Train Loss: 0.6933, Train Acc: 49.67%, Val Loss: 0.6932, Val Acc: 50.00%\n",
      "Epoch [73/100], Train Loss: 0.6933, Train Acc: 49.67%, Val Loss: 0.6932, Val Acc: 50.00%\n",
      "Epoch [74/100], Train Loss: 0.6933, Train Acc: 49.00%, Val Loss: 0.6931, Val Acc: 50.00%\n",
      "Epoch [75/100], Train Loss: 0.6932, Train Acc: 50.00%, Val Loss: 0.6931, Val Acc: 50.00%\n",
      "Epoch [76/100], Train Loss: 0.6933, Train Acc: 48.17%, Val Loss: 0.6932, Val Acc: 50.00%\n",
      "Epoch [77/100], Train Loss: 0.6933, Train Acc: 50.00%, Val Loss: 0.6932, Val Acc: 50.00%\n",
      "Epoch [78/100], Train Loss: 0.6932, Train Acc: 47.33%, Val Loss: 0.6932, Val Acc: 50.00%\n",
      "Epoch [79/100], Train Loss: 0.6933, Train Acc: 48.33%, Val Loss: 0.6931, Val Acc: 50.00%\n",
      "Epoch [80/100], Train Loss: 0.6933, Train Acc: 50.00%, Val Loss: 0.6931, Val Acc: 50.00%\n",
      "Epoch [81/100], Train Loss: 0.6934, Train Acc: 48.00%, Val Loss: 0.6932, Val Acc: 50.00%\n",
      "Epoch [82/100], Train Loss: 0.6932, Train Acc: 47.33%, Val Loss: 0.6931, Val Acc: 50.00%\n",
      "Epoch [83/100], Train Loss: 0.6933, Train Acc: 50.00%, Val Loss: 0.6931, Val Acc: 50.00%\n",
      "Epoch [84/100], Train Loss: 0.6933, Train Acc: 49.00%, Val Loss: 0.6931, Val Acc: 50.00%\n",
      "Epoch [85/100], Train Loss: 0.6934, Train Acc: 46.17%, Val Loss: 0.6931, Val Acc: 50.00%\n",
      "Epoch [86/100], Train Loss: 0.6932, Train Acc: 49.83%, Val Loss: 0.6932, Val Acc: 50.00%\n",
      "Epoch [87/100], Train Loss: 0.6932, Train Acc: 50.00%, Val Loss: 0.6932, Val Acc: 50.00%\n",
      "Epoch [88/100], Train Loss: 0.6932, Train Acc: 50.00%, Val Loss: 0.6931, Val Acc: 50.00%\n",
      "Epoch [89/100], Train Loss: 0.6933, Train Acc: 48.33%, Val Loss: 0.6931, Val Acc: 50.00%\n",
      "Epoch [90/100], Train Loss: 0.6932, Train Acc: 49.83%, Val Loss: 0.6932, Val Acc: 50.00%\n",
      "Epoch [91/100], Train Loss: 0.6933, Train Acc: 50.00%, Val Loss: 0.6932, Val Acc: 50.00%\n",
      "Epoch [92/100], Train Loss: 0.6933, Train Acc: 50.00%, Val Loss: 0.6931, Val Acc: 50.00%\n",
      "Epoch [93/100], Train Loss: 0.6932, Train Acc: 47.50%, Val Loss: 0.6932, Val Acc: 50.00%\n",
      "Epoch [94/100], Train Loss: 0.6932, Train Acc: 46.50%, Val Loss: 0.6932, Val Acc: 50.00%\n",
      "Epoch [95/100], Train Loss: 0.6932, Train Acc: 50.00%, Val Loss: 0.6932, Val Acc: 50.00%\n",
      "Epoch [96/100], Train Loss: 0.6932, Train Acc: 50.00%, Val Loss: 0.6931, Val Acc: 50.00%\n",
      "Epoch [97/100], Train Loss: 0.6932, Train Acc: 50.00%, Val Loss: 0.6931, Val Acc: 50.00%\n",
      "Epoch [98/100], Train Loss: 0.6932, Train Acc: 50.00%, Val Loss: 0.6932, Val Acc: 50.00%\n",
      "Epoch [99/100], Train Loss: 0.6932, Train Acc: 47.67%, Val Loss: 0.6932, Val Acc: 50.00%\n",
      "Epoch [100/100], Train Loss: 0.6933, Train Acc: 47.33%, Val Loss: 0.6931, Val Acc: 50.00%\n",
      "\n",
      "-----Train VGG16 model for LowNT Dataset-----\n",
      "Epoch [1/100], Train Loss: 0.6932, Train Acc: 49.50%, Val Loss: 0.6931, Val Acc: 50.00%\n",
      "Epoch [2/100], Train Loss: 0.6932, Train Acc: 50.00%, Val Loss: 0.6932, Val Acc: 50.00%\n",
      "Epoch [3/100], Train Loss: 0.6933, Train Acc: 46.83%, Val Loss: 0.6931, Val Acc: 50.00%\n",
      "Epoch [4/100], Train Loss: 0.6932, Train Acc: 49.00%, Val Loss: 0.6931, Val Acc: 50.00%\n",
      "Epoch [5/100], Train Loss: 0.6932, Train Acc: 48.33%, Val Loss: 0.6931, Val Acc: 50.00%\n",
      "Epoch [6/100], Train Loss: 0.6932, Train Acc: 50.00%, Val Loss: 0.6932, Val Acc: 50.00%\n",
      "Epoch [7/100], Train Loss: 0.6932, Train Acc: 50.00%, Val Loss: 0.6931, Val Acc: 50.00%\n",
      "Epoch [8/100], Train Loss: 0.6932, Train Acc: 49.17%, Val Loss: 0.6931, Val Acc: 50.00%\n",
      "Epoch [9/100], Train Loss: 0.6932, Train Acc: 50.00%, Val Loss: 0.6931, Val Acc: 50.00%\n",
      "Epoch [10/100], Train Loss: 0.6932, Train Acc: 50.00%, Val Loss: 0.6931, Val Acc: 50.00%\n",
      "Epoch [11/100], Train Loss: 0.6932, Train Acc: 49.00%, Val Loss: 0.6931, Val Acc: 50.00%\n",
      "Epoch [12/100], Train Loss: 0.6932, Train Acc: 50.00%, Val Loss: 0.6931, Val Acc: 50.00%\n",
      "Epoch [13/100], Train Loss: 0.6932, Train Acc: 47.33%, Val Loss: 0.6931, Val Acc: 50.00%\n",
      "Epoch [14/100], Train Loss: 0.6933, Train Acc: 46.83%, Val Loss: 0.6931, Val Acc: 50.00%\n",
      "Epoch [15/100], Train Loss: 0.6932, Train Acc: 48.83%, Val Loss: 0.6932, Val Acc: 50.00%\n",
      "Epoch [16/100], Train Loss: 0.6932, Train Acc: 50.00%, Val Loss: 0.6931, Val Acc: 50.00%\n",
      "Epoch [17/100], Train Loss: 0.6932, Train Acc: 50.00%, Val Loss: 0.6932, Val Acc: 50.00%\n",
      "Epoch [18/100], Train Loss: 0.6932, Train Acc: 49.33%, Val Loss: 0.6931, Val Acc: 50.00%\n",
      "Epoch [19/100], Train Loss: 0.6932, Train Acc: 48.50%, Val Loss: 0.6932, Val Acc: 50.00%\n",
      "Epoch [20/100], Train Loss: 0.6933, Train Acc: 46.50%, Val Loss: 0.6931, Val Acc: 50.00%\n",
      "Epoch [21/100], Train Loss: 0.6932, Train Acc: 50.00%, Val Loss: 0.6931, Val Acc: 50.00%\n",
      "Epoch [22/100], Train Loss: 0.6933, Train Acc: 48.17%, Val Loss: 0.6931, Val Acc: 50.00%\n",
      "Epoch [23/100], Train Loss: 0.6932, Train Acc: 49.33%, Val Loss: 0.6932, Val Acc: 50.00%\n",
      "Epoch [24/100], Train Loss: 0.6932, Train Acc: 49.00%, Val Loss: 0.6931, Val Acc: 50.00%\n",
      "Epoch [25/100], Train Loss: 0.6933, Train Acc: 47.83%, Val Loss: 0.6931, Val Acc: 50.00%\n",
      "Epoch [26/100], Train Loss: 0.6932, Train Acc: 50.00%, Val Loss: 0.6932, Val Acc: 50.00%\n",
      "Epoch [27/100], Train Loss: 0.6932, Train Acc: 50.00%, Val Loss: 0.6932, Val Acc: 50.00%\n",
      "Epoch [28/100], Train Loss: 0.6932, Train Acc: 50.00%, Val Loss: 0.6932, Val Acc: 50.00%\n",
      "Epoch [29/100], Train Loss: 0.6932, Train Acc: 48.33%, Val Loss: 0.6931, Val Acc: 50.00%\n",
      "Epoch [30/100], Train Loss: 0.6932, Train Acc: 48.33%, Val Loss: 0.6932, Val Acc: 50.00%\n",
      "Epoch [31/100], Train Loss: 0.6932, Train Acc: 49.17%, Val Loss: 0.6931, Val Acc: 50.00%\n",
      "Epoch [32/100], Train Loss: 0.6932, Train Acc: 50.00%, Val Loss: 0.6931, Val Acc: 50.00%\n",
      "Epoch [33/100], Train Loss: 0.6932, Train Acc: 50.00%, Val Loss: 0.6932, Val Acc: 50.00%\n",
      "Epoch [34/100], Train Loss: 0.6932, Train Acc: 49.33%, Val Loss: 0.6932, Val Acc: 50.00%\n",
      "Epoch [35/100], Train Loss: 0.6933, Train Acc: 48.67%, Val Loss: 0.6932, Val Acc: 50.00%\n",
      "Epoch [36/100], Train Loss: 0.6933, Train Acc: 48.00%, Val Loss: 0.6931, Val Acc: 50.00%\n",
      "Epoch [37/100], Train Loss: 0.6932, Train Acc: 50.00%, Val Loss: 0.6931, Val Acc: 50.00%\n",
      "Epoch [38/100], Train Loss: 0.6932, Train Acc: 49.67%, Val Loss: 0.6932, Val Acc: 50.00%\n",
      "Epoch [39/100], Train Loss: 0.6933, Train Acc: 50.00%, Val Loss: 0.6932, Val Acc: 50.00%\n",
      "Epoch [40/100], Train Loss: 0.6933, Train Acc: 47.67%, Val Loss: 0.6931, Val Acc: 50.00%\n",
      "Epoch [41/100], Train Loss: 0.6934, Train Acc: 50.00%, Val Loss: 0.6931, Val Acc: 50.00%\n",
      "Epoch [42/100], Train Loss: 0.6932, Train Acc: 47.67%, Val Loss: 0.6931, Val Acc: 50.00%\n",
      "Epoch [43/100], Train Loss: 0.6932, Train Acc: 50.00%, Val Loss: 0.6931, Val Acc: 50.00%\n",
      "Epoch [44/100], Train Loss: 0.6932, Train Acc: 47.83%, Val Loss: 0.6932, Val Acc: 50.00%\n",
      "Epoch [45/100], Train Loss: 0.6932, Train Acc: 49.50%, Val Loss: 0.6931, Val Acc: 50.00%\n",
      "Epoch [46/100], Train Loss: 0.6934, Train Acc: 50.00%, Val Loss: 0.6931, Val Acc: 50.00%\n",
      "Epoch [47/100], Train Loss: 0.6933, Train Acc: 50.17%, Val Loss: 0.6932, Val Acc: 50.00%\n",
      "Epoch [48/100], Train Loss: 0.6932, Train Acc: 47.83%, Val Loss: 0.6931, Val Acc: 50.00%\n",
      "Epoch [49/100], Train Loss: 0.6932, Train Acc: 50.00%, Val Loss: 0.6932, Val Acc: 50.00%\n",
      "Epoch [50/100], Train Loss: 0.6932, Train Acc: 50.00%, Val Loss: 0.6931, Val Acc: 50.00%\n",
      "Epoch [51/100], Train Loss: 0.6933, Train Acc: 48.83%, Val Loss: 0.6932, Val Acc: 50.00%\n",
      "Epoch [52/100], Train Loss: 0.6932, Train Acc: 49.33%, Val Loss: 0.6931, Val Acc: 50.00%\n",
      "Epoch [53/100], Train Loss: 0.6933, Train Acc: 49.00%, Val Loss: 0.6931, Val Acc: 50.00%\n",
      "Epoch [54/100], Train Loss: 0.6933, Train Acc: 48.67%, Val Loss: 0.6931, Val Acc: 50.00%\n",
      "Epoch [55/100], Train Loss: 0.6933, Train Acc: 48.83%, Val Loss: 0.6931, Val Acc: 50.00%\n",
      "Epoch [56/100], Train Loss: 0.6932, Train Acc: 50.00%, Val Loss: 0.6931, Val Acc: 50.00%\n",
      "Epoch [57/100], Train Loss: 0.6932, Train Acc: 50.00%, Val Loss: 0.6931, Val Acc: 50.00%\n",
      "Epoch [58/100], Train Loss: 0.6932, Train Acc: 47.33%, Val Loss: 0.6932, Val Acc: 50.00%\n",
      "Epoch [59/100], Train Loss: 0.6933, Train Acc: 50.00%, Val Loss: 0.6932, Val Acc: 50.00%\n",
      "Epoch [60/100], Train Loss: 0.6935, Train Acc: 48.17%, Val Loss: 0.6932, Val Acc: 50.00%\n",
      "Epoch [61/100], Train Loss: 0.6935, Train Acc: 50.00%, Val Loss: 0.6931, Val Acc: 50.00%\n",
      "Epoch [62/100], Train Loss: 0.6934, Train Acc: 48.17%, Val Loss: 0.6931, Val Acc: 50.00%\n",
      "Epoch [63/100], Train Loss: 0.6932, Train Acc: 46.17%, Val Loss: 0.6931, Val Acc: 50.00%\n",
      "Epoch [64/100], Train Loss: 0.6933, Train Acc: 50.00%, Val Loss: 0.6932, Val Acc: 50.00%\n",
      "Epoch [65/100], Train Loss: 0.6932, Train Acc: 50.00%, Val Loss: 0.6932, Val Acc: 50.00%\n",
      "Epoch [66/100], Train Loss: 0.6933, Train Acc: 46.67%, Val Loss: 0.6932, Val Acc: 50.00%\n",
      "Epoch [67/100], Train Loss: 0.6932, Train Acc: 48.00%, Val Loss: 0.6932, Val Acc: 50.00%\n",
      "Epoch [68/100], Train Loss: 0.6932, Train Acc: 49.50%, Val Loss: 0.6931, Val Acc: 50.00%\n",
      "Epoch [69/100], Train Loss: 0.6932, Train Acc: 50.00%, Val Loss: 0.6932, Val Acc: 50.00%\n",
      "Epoch [70/100], Train Loss: 0.6932, Train Acc: 50.00%, Val Loss: 0.6931, Val Acc: 50.00%\n",
      "Epoch [71/100], Train Loss: 0.6932, Train Acc: 50.00%, Val Loss: 0.6932, Val Acc: 50.00%\n",
      "Epoch [72/100], Train Loss: 0.6932, Train Acc: 50.00%, Val Loss: 0.6932, Val Acc: 50.00%\n",
      "Epoch [73/100], Train Loss: 0.6932, Train Acc: 49.33%, Val Loss: 0.6931, Val Acc: 50.00%\n",
      "Epoch [74/100], Train Loss: 0.6932, Train Acc: 48.17%, Val Loss: 0.6931, Val Acc: 50.00%\n",
      "Epoch [75/100], Train Loss: 0.6933, Train Acc: 49.17%, Val Loss: 0.6932, Val Acc: 50.00%\n",
      "Epoch [76/100], Train Loss: 0.6932, Train Acc: 50.00%, Val Loss: 0.6931, Val Acc: 50.00%\n",
      "Epoch [77/100], Train Loss: 0.6932, Train Acc: 50.00%, Val Loss: 0.6932, Val Acc: 50.00%\n",
      "Epoch [78/100], Train Loss: 0.6932, Train Acc: 48.00%, Val Loss: 0.6931, Val Acc: 50.00%\n",
      "Epoch [79/100], Train Loss: 0.6932, Train Acc: 48.33%, Val Loss: 0.6932, Val Acc: 50.00%\n",
      "Epoch [80/100], Train Loss: 0.6932, Train Acc: 48.00%, Val Loss: 0.6931, Val Acc: 50.00%\n",
      "Epoch [81/100], Train Loss: 0.6932, Train Acc: 48.67%, Val Loss: 0.6932, Val Acc: 50.00%\n",
      "Epoch [82/100], Train Loss: 0.6932, Train Acc: 50.00%, Val Loss: 0.6931, Val Acc: 50.00%\n",
      "Epoch [83/100], Train Loss: 0.6932, Train Acc: 47.33%, Val Loss: 0.6931, Val Acc: 50.00%\n",
      "Epoch [84/100], Train Loss: 0.6932, Train Acc: 48.50%, Val Loss: 0.6932, Val Acc: 50.00%\n",
      "Epoch [85/100], Train Loss: 0.6932, Train Acc: 49.50%, Val Loss: 0.6931, Val Acc: 50.00%\n",
      "Epoch [86/100], Train Loss: 0.6932, Train Acc: 48.67%, Val Loss: 0.6931, Val Acc: 50.00%\n",
      "Epoch [87/100], Train Loss: 0.6932, Train Acc: 50.00%, Val Loss: 0.6932, Val Acc: 50.00%\n",
      "Epoch [88/100], Train Loss: 0.6932, Train Acc: 50.00%, Val Loss: 0.6931, Val Acc: 50.00%\n",
      "Epoch [89/100], Train Loss: 0.6932, Train Acc: 50.00%, Val Loss: 0.6932, Val Acc: 50.00%\n",
      "Epoch [90/100], Train Loss: 0.6932, Train Acc: 47.67%, Val Loss: 0.6931, Val Acc: 50.00%\n",
      "Epoch [91/100], Train Loss: 0.6932, Train Acc: 48.33%, Val Loss: 0.6931, Val Acc: 50.00%\n",
      "Epoch [92/100], Train Loss: 0.6933, Train Acc: 50.00%, Val Loss: 0.6931, Val Acc: 50.00%\n",
      "Epoch [93/100], Train Loss: 0.6932, Train Acc: 50.00%, Val Loss: 0.6931, Val Acc: 50.00%\n",
      "Epoch [94/100], Train Loss: 0.6933, Train Acc: 48.33%, Val Loss: 0.6931, Val Acc: 50.00%\n",
      "Epoch [95/100], Train Loss: 0.6932, Train Acc: 49.17%, Val Loss: 0.6932, Val Acc: 50.00%\n",
      "Epoch [96/100], Train Loss: 0.6932, Train Acc: 50.00%, Val Loss: 0.6932, Val Acc: 50.00%\n",
      "Epoch [97/100], Train Loss: 0.6932, Train Acc: 48.67%, Val Loss: 0.6931, Val Acc: 50.00%\n",
      "Epoch [98/100], Train Loss: 0.6932, Train Acc: 48.83%, Val Loss: 0.6932, Val Acc: 50.00%\n",
      "Epoch [99/100], Train Loss: 0.6932, Train Acc: 48.00%, Val Loss: 0.6931, Val Acc: 50.00%\n",
      "Epoch [100/100], Train Loss: 0.6932, Train Acc: 50.00%, Val Loss: 0.6932, Val Acc: 50.00%\n"
     ]
    }
   ],
   "source": [
    "model_dir = '/kaggle/working//Model'\n",
    "results = list()\n",
    "\n",
    "for name, model_optimizer in model_optimizers.items():\n",
    "    for category, dataloader in dataloaders.items():\n",
    "        model, optimizer = model_optimizer\n",
    "        train_dl, valid_dl = dataloader[:2]\n",
    "        save_path = os.path.join(model_dir, f'{name}_{category}.pth')\n",
    "        if os.path.exists(save_path):\n",
    "            print(f'-----Already Trained {name} model for {category} Dataset-----')\n",
    "            model = torch.load(save_path)\n",
    "            try:\n",
    "                results.append([name, category, loadTrainedModel(model)])\n",
    "            except KeyError:\n",
    "                raise KeyError\n",
    "            continue\n",
    "        print(f'\\n-----Train {name} model for {category} Dataset-----')\n",
    "        result = train(train_dl, valid_dl, model, optimizer, num_epochs=100, save=True, save_path=save_path)\n",
    "        results.append([name, category, result])"
   ]
  },
  {
   "cell_type": "code",
   "execution_count": null,
   "id": "cd9ac08d",
   "metadata": {
    "papermill": {
     "duration": 0.020836,
     "end_time": "2023-05-17T09:22:45.624258",
     "exception": false,
     "start_time": "2023-05-17T09:22:45.603422",
     "status": "completed"
    },
    "tags": []
   },
   "outputs": [],
   "source": []
  }
 ],
 "metadata": {
  "kernelspec": {
   "display_name": "Python 3",
   "language": "python",
   "name": "python3"
  },
  "language_info": {
   "codemirror_mode": {
    "name": "ipython",
    "version": 3
   },
   "file_extension": ".py",
   "mimetype": "text/x-python",
   "name": "python",
   "nbconvert_exporter": "python",
   "pygments_lexer": "ipython3",
   "version": "3.10.10"
  },
  "papermill": {
   "default_parameters": {},
   "duration": 20260.535727,
   "end_time": "2023-05-17T09:22:48.579688",
   "environment_variables": {},
   "exception": null,
   "input_path": "__notebook__.ipynb",
   "output_path": "__notebook__.ipynb",
   "parameters": {},
   "start_time": "2023-05-17T03:45:08.043961",
   "version": "2.4.0"
  }
 },
 "nbformat": 4,
 "nbformat_minor": 5
}
